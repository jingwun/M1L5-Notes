{
 "cells": [
  {
   "cell_type": "markdown",
   "id": "invisible-finnish",
   "metadata": {},
   "source": [
    "<br><font color = darkblue size=6><strong>CQF M1L5 Notes</strong></font> \n",
    "1:14:44"
   ]
  },
  {
   "cell_type": "markdown",
   "id": "instructional-metallic",
   "metadata": {},
   "source": [
    "An equation of the form dG = a (G, t) dt+b (G, t) dX is called a Stochastic Differential Equation (SDE) for G (or random\n",
    "walk for dG) and consists of two components:\n",
    "\n",
    "1. a (G, t) dt is deterministic – coefficient of dt is known as the drift or growth\n",
    "\n",
    "2. b (G, t) dX is random – coefficient of dX is known as the diffusion or volatility\n",
    "\n",
    "**Geometric Brownian Motion (Exponential Brownian Motion):**\n",
    "\n",
    "dS = μSdt+σSdX\n",
    "\n",
    "It's better to look at it as $\\frac{dS}{S}$ = μdt+σdX so the level of S doesn't matter.\n",
    "\n",
    "If $\\sigma$ is vanished, we have $S_t=S_0e^{rt}$"
   ]
  },
  {
   "cell_type": "markdown",
   "id": "administrative-pattern",
   "metadata": {},
   "source": [
    "# Ito III: $dV = (\\mu S\\frac{dV}{dS}+\\frac{1}{2}\\sigma^2S^2\\frac{d^2V}{dS^2})dt +(\\sigma S\\frac{dV}{dS})dX$\n",
    "\n",
    "Drift: $\\mu S\\frac{dV}{dS}+\\frac{1}{2}\\sigma^2S^2\\frac{d^2V}{dS^2}$\n",
    "\n",
    "Diffusion: $\\sigma S\\frac{dV}{dS}$ "
   ]
  },
  {
   "cell_type": "markdown",
   "id": "painful-bandwidth",
   "metadata": {},
   "source": [
    "Rather than being intersted in the function of a brownian motion, we now are intersted in the function of a stochastic process.\n",
    "\n",
    "Ito III can be used to solve any financial contract that is based on stock price.\n",
    "\n",
    "Suppose we now wish to extend Ito I to consider the change in an option price V (S) where the underlying variable S follows a geometric Brownian motion. An obvious question we may ask is, what is the jump in V (S +dS) when S → S +dS?\n",
    "\n",
    "\n",
    "Using T.S.E:\n",
    "\n",
    "$V(S+dS)=V(S) + \\frac{dV}{dS}dS +\\frac{1}{2}\\frac{d^2V}{dS^2}dS^2$\n",
    "\n",
    "$dV = \\frac{dV}{dS}dS +\\frac{1}{2}\\frac{d^2V}{dS^2}dS^2$\n",
    "\n",
    "$= \\frac{dV}{dS}(\\mu Sdt+\\sigma SdX) +\\frac{1}{2}\\frac{d^2V}{dS^2}\\sigma^2S^2dt$\n",
    "\n",
    "$= (\\mu S\\frac{dV}{dS}+\\frac{1}{2}\\sigma^2S^2\\frac{d^2V}{dS^2})dt +(\\sigma S\\frac{dV}{dS})dX$"
   ]
  },
  {
   "cell_type": "markdown",
   "id": "matched-pleasure",
   "metadata": {},
   "source": [
    "Hint: \n",
    "\n",
    "* if $dG = A(t, G_t)dt+B(t, G_t)dX_t$\n",
    "\n",
    "* then $dG^2  =A^2dt^2 + 2ABdtdX+B^2dX^2 = O(dt^2)+O(dt^{(3/2)} + B^2dt = B^2dt$\n",
    "\n",
    "Therefore, $dS^2 = (\\mu Sdt + \\sigma SdX)^2 = \\sigma^2S^2dt$\n",
    "\n",
    "Ito II vs Ito III: Ito II is still Brownian motion, Ito III now S has it's own makeup. "
   ]
  },
  {
   "cell_type": "markdown",
   "id": "general-globe",
   "metadata": {},
   "source": [
    "## Important Examples"
   ]
  },
  {
   "cell_type": "markdown",
   "id": "virtual-script",
   "metadata": {},
   "source": [
    "### V (S) = logS"
   ]
  },
  {
   "cell_type": "markdown",
   "id": "split-radius",
   "metadata": {},
   "source": [
    "\n",
    "\n",
    "$\\frac{dV}{dS}=\\frac{1}{S}$\n",
    "\n",
    "$\\frac{d^2V}{dS^2}=-\\frac{1}{S^2}$\n",
    "\n",
    "$dV = (\\mu S(\\frac{1}{S}+\\frac{1}{2}\\sigma^2S^2(-\\frac{1}{S^2}))dt +\\sigma S(\\frac{1}{S})dX$ \n",
    "\n",
    "$ d(logS) = (\\mu-\\frac{1}{2}\\sigma^2)dt +\\sigma dX$\n",
    "\n",
    "We want to solve for S because we want determine stock prices. Here's $\\mu, S \\epsilon R$\n",
    "\n",
    "Integrating both sides between 0 and t:\n",
    "\n",
    "$\\int_{0}^{t} = \\int_{0}^{t}(\\mu-\\frac{1}{2}\\sigma^2)d\\tau +\\int_{0}^{t}\\sigma dX$   (t>0)\n",
    "\n",
    "$log\\frac{S_t}{S_0} = (\\mu-\\frac{1}{2}\\sigma^2)t + \\sigma(X(t)-X(0))$\n",
    "\n",
    "\n",
    "Take exponential on both sides, assuming X(0)=0 and S(0) = $S_0$:\n",
    "\n",
    "$S(t) = S_0exp((\\mu-\\frac{1}{2}\\sigma^2)t + \\sigma(X(t))$\n",
    "\n",
    "$ = S_0exp((\\mu-\\frac{1}{2}\\sigma^2)t + \\sigma\\phi\\sqrt{t})$\n",
    "\n",
    "Usage:\n",
    "\n",
    "$\\int_{t}^{T}: S_T=S_texp((\\mu-\\frac{1}{2}\\sigma^2)(T-t) + \\sigma\\phi\\sqrt{T-t})$\n",
    "\n",
    "$\\int_{t}^{t+\\delta t}: S_{t+\\delta t}=S_texp((\\mu-\\frac{1}{2}\\sigma^2)\\delta t + \\sigma\\phi\\sqrt{\\delta t})$\n"
   ]
  },
  {
   "cell_type": "markdown",
   "id": "regulation-bulletin",
   "metadata": {},
   "source": [
    "### Vasicek Interest rate model for short-term interest rates"
   ]
  },
  {
   "cell_type": "markdown",
   "id": "comic-slide",
   "metadata": {},
   "source": [
    "$dr = γ (\\overline r − r) dt+σdX$\n",
    "\n",
    "$= - γ (r - \\overline r) dt+σdX$\n",
    "\n",
    "γ refers to the reversion rate and $\\overline r$ denotes the mean rate\n",
    "\n",
    "For the behvaior of interest rate, a closed form solution does exist. That's why people love Vasicek. \n",
    "\n",
    "Do a substitution: \n",
    "\n",
    "$u_t = r - \\overline r$\n",
    "\n",
    "then  $du  = d(r - \\overline r) = dr$, because $\\overline r$ is a constant  \n",
    "\n",
    "$du = - γudt+σdX$\n",
    "\n",
    "$du + γudt = σdX$\n",
    "\n",
    "Now, consider an integrating factor, i.e. multiply by $e^{\\gamma t}$    (need to review the integrating factor on math primer)\n",
    "\n",
    "$e^{rt}(du + γudt) = e^{rt}σdX$\n",
    "\n",
    "$d(e^{rt}u) = e^{rt}σdX$\n",
    "\n",
    "Integrate over (0, t)\n",
    "\n",
    "$\\int_{0}^{t}d(e^{rs}u) = \\int_{0}^{t}e^{rs}σdX$\n",
    "\n",
    "$e^{rt}u_t - u_0 = σ\\int_{0}^{t}e^{rs}dX$\n",
    "\n",
    "$u_t = u_0e^{-\\gamma t}+\\sigma\\int_{0}^{t}e^{r(s-t)}dX_s$\n",
    "\n",
    "\n",
    "Using integrating by parts or stochastic integration formula:\n",
    "\n",
    "$=u_0e^{-\\gamma t}+\\sigma(X(t) - \\gamma\\int_{0}^{t}X(s)e^{r(s-t)}ds)$    (need to review \"integrating by parts)\n",
    "\n",
    "\n",
    "For $\\int e^{\\gamma(s-t)} dX$, using integration by parts:\n",
    "\n",
    "$v = e^{\\gamma(s-t)} \\rightarrow v'=\\gamma e^{\\gamma(s-t)}$\n",
    "\n",
    "$du = dX \\rightarrow u=X$\n",
    "\n",
    "\n",
    "\n"
   ]
  },
  {
   "cell_type": "markdown",
   "id": "copyrighted-teens",
   "metadata": {},
   "source": [
    "# Transition probability density function"
   ]
  },
  {
   "cell_type": "markdown",
   "id": "religious-kitchen",
   "metadata": {},
   "source": [
    "Let’s look at the equations governing the probability distribution for an arbitrary random walk:\n",
    "\n",
    "dy = A(y, t) dt+B(y, t) dX, for the variable y\n",
    "\n",
    "Need to define $\\phi^+(y,t), \\phi^-(y,t)$ such that the mean of Trinomial Random Walk matches that of the continuous time SDE. Here $\\phi^+, \\phi^-$ are the probability of going up and down, so the probability for no change is $1-\\phi^+-\\phi^-$. Also need to ensure the variance of discrete time random variable matches that of the continuous time SDE. \n",
    "\n",
    "E[dy] = E[A(y, t) dt]+E[B(y, t) dX]\n",
    "$= A(y,t)\\delta t$\n",
    "\n",
    "$V[dy] = V[Adt] + V[BdX] = 0 + B^2dt$\n",
    "\n",
    "$V[Adt] = 0$ because $Adt$ is a scalar and the variance of a scaler is 0. "
   ]
  },
  {
   "cell_type": "markdown",
   "id": "special-order",
   "metadata": {},
   "source": [
    "## Fokker-Plan (or Forward Kolmogorov Equation)"
   ]
  },
  {
   "cell_type": "markdown",
   "id": "expected-contribution",
   "metadata": {},
   "source": [
    "$\\frac{\\partial p}{\\partial t'}=\\frac{1}{2}\\frac{\\partial^2}{\\partial y'^2}(B(y',t')^2p)-\\frac{\\partial}{\\partial y'}(A(y',t')p)$\n",
    "\n",
    "In M1L3, $(B(y',t')^2 = 1$, and $(A(y',t')p)=0$\n",
    "\n",
    "This is a linear parabolic differential equation. y, and t are fixed.\n",
    "\n",
    "For example, in the case of $dS=\\mu S dt+\\sigma SdX$:\n",
    "\n",
    "$A(s,t)=\\mu S$\n",
    "\n",
    "$B(s,t)=\\sigma S$\n",
    "\n",
    "So, \n",
    "\n",
    "$\\frac{\\partial p}{\\partial t'}=\\frac{1}{2}\\frac{\\partial^2}{\\partial y'^2}(B(y',t')^2p)-\\frac{\\partial}{\\partial y'}(A(y',t')p)$\n",
    "\n",
    "$=\\frac{1}{2}\\frac{\\partial^2}{\\partial S'^2}\\sigma^2 S'^2p-\\frac{\\partial}{\\partial S'}(\\mu S'p)$\n",
    "\n",
    "to solve for $p(S,t;S',t')$ we need to reduce the above equation to a 1-dimensional heat equation:\n",
    "\n",
    "(1) Change time\n",
    "\n",
    "(2) log S\n",
    "\n",
    "(3) transformation of x-axis\n",
    "\n",
    "...we will derive this is Module 3:\n",
    "\n",
    "\n",
    "$p(S,t;S',t') = \\partial{1}{\\sigma S'\\sqrt{2\\pi(t'-t)}}e^{-(log(S/S')+(\\mu-\\frac{1}{2}\\sigma^2)(t'-t))^2/2\\sigma^2(t'-t)}$\n",
    "\n",
    "This is the transition PDF for stock price. So if you want to figure out what's the probability for what the stock price might be in the future, simply integrate the above, assuming you know the price today."
   ]
  },
  {
   "cell_type": "markdown",
   "id": "impressive-pioneer",
   "metadata": {},
   "source": [
    "### The steady-state distribution"
   ]
  },
  {
   "cell_type": "markdown",
   "id": "complex-missile",
   "metadata": {},
   "source": [
    "Some random walks have a steady-state distribution. That is, in the long run as $t' \\rightarrow \\infty$ the distribution p(y, t; y', t') as a function of y' settles down to be independent of the starting state y and time t. That is, $P=P(y,t) \\rightarrow P=P(y)$. Therefore, $\\frac{\\partial p}{\\partial t'} \\rightarrow 0$, and $\\frac{\\partial}{\\partial y'} \\rightarrow \\frac{d}{dy'}$. Possible examples are stochastic differential equation models for interest rates, inflation, volatility.\n",
    "\n",
    "Some random walks have no such steady state even though they have a time-independent equation. For example the lognormal random walk either grows without bound or decays to zero.\n",
    "\n",
    "If there is a steady-state distribution p∞(y') then it satisfies the ordinary differential equation $\\frac{1}{2}\\frac{d^2}{dy'^2}(B^2p\\infty)-\\frac{d}{dy'}(Ap\\infty)=0$   (FKT for steady state distribution)\n",
    "\n",
    "Here, $p\\infty$ represents steady state distribution because $t' \\rightarrow \\infty$.\n",
    "\n",
    "Example: The Vasicek model\n",
    "\n",
    "$dr = γ (\\overline r − r) dt+σdX$\n",
    "\n",
    "$= - γ (r - \\overline r) dt+σdX$\n",
    "\n",
    "\n",
    "The steady-state distribution p∞(r') satisfies:\n",
    "\n",
    "$\\frac{1}{2}\\sigma^2\\frac{d^2p\\infty}{dr'^2}-\\gamma\\frac{d}{dr'}((\\overline r-r')p\\infty)=0$\n",
    "\n",
    "Now, let's solve for $p\\infty$:\n",
    "\n",
    "$\\frac{1}{2}\\sigma^2\\frac{d^2p\\infty}{dr'^2} = -\\gamma\\frac{d}{dr'}((r'- \\overline r)p\\infty)$\n",
    "\n",
    "Integrate once:\n",
    "\n",
    "$\\frac{1}{2}\\sigma^2\\frac{dp\\infty}{dr'} = -\\gamma((r'- \\overline r)p\\infty+ Constant$\n",
    "\n",
    "$\\because$ p is a pdf & r is a random variable\n",
    "\n",
    "$\\therefore$ as r $\\rightarrow \\infty$, $p \\rightarrow 0$ and $\\frac{dp}{dr} \\rightarrow 0$. So Constant = 0.\n",
    "\n",
    "$\\frac{1}{2}\\sigma^2\\frac{dp\\infty}{dr'} = -\\gamma((r'- \\overline r)p\\infty$\n",
    "\n",
    "\n",
    "$\\frac{dp}{p}=-\\frac{2\\gamma}{\\sigma^2}(r-\\overline r)dr$\n",
    "\n",
    "integrate:\n",
    "\n",
    "$\\int\\frac{dp}{p}=-\\frac{2\\gamma}{\\sigma^2}\\int(r-\\overline r)dr$\n",
    "\n",
    "$log p = -\\frac{2\\gamma}{\\sigma^2}(\\frac{1}{2}(r-\\overline r)^2) + Constant$\n",
    "\n",
    "$log p = -\\frac{\\gamma}{\\sigma^2}(r-\\overline r)^2 + Constant$\n",
    "\n",
    "$p = Ae^{-\\frac{\\gamma}{\\sigma^2}(r-\\overline r)^2}$\n",
    "\n",
    "To calculate A, use $\\int_{R}pdr=1$ and use integration by substitution:\n",
    "\n",
    "put $x=\\frac{\\sqrt{\\gamma}}{\\sigma}(r-\\overline r)$\n",
    "\n",
    "$\\frac{dx}{dr} = \\frac{\\sqrt{\\gamma}}{\\sigma}$\n",
    "\n",
    "$\\frac{\\sigma}{\\sqrt{\\gamma}}dX=dr$\n",
    "\n",
    "$\\int_{R}pdr=1$\n",
    "\n",
    "$A\\int e^{-X^2}dr =1$\n",
    "\n",
    "$A\\int e^{-X^2}\\frac{\\sigma}{\\sqrt{\\gamma}}dX =1$\n",
    "\n",
    "$\\frac{\\sigma}{\\sqrt{\\gamma}}A\\int e^{-X^2}dX = 1$\n",
    "\n",
    "$\\frac{\\sigma}{\\sqrt{\\gamma}}A\\sqrt{\\pi} = 1$\n",
    "\n",
    "$A=\\frac{1}{\\sigma}{\\sqrt{\\frac{\\gamma}{\\pi}}}$\n",
    "\n",
    "\n",
    "$p_\\infty (r) = \\frac{1}{\\sigma}{\\sqrt{\\frac{\\gamma}{\\pi}}}e^{-\\frac{\\gamma}{\\sigma^2}(r-\\overline r)^2}$\n",
    "\n",
    "In other words, the interest rate r is Normally distributed with mean $\\overline r$ and standard deviation $\\sigma/\\sqrt{2\\gamma}$"
   ]
  },
  {
   "cell_type": "markdown",
   "id": "reported-carolina",
   "metadata": {},
   "source": [
    "## Backward Kolmogorov Equation"
   ]
  },
  {
   "cell_type": "markdown",
   "id": "impressive-driver",
   "metadata": {},
   "source": [
    "$\\frac{\\partial p}{\\partial t} + \\frac{1}{2}B(y,t)^2\\frac{\\partial^2p}{\\partial y^2}+A(y,t)\\frac{\\partial p}{\\partial y}=0$"
   ]
  },
  {
   "cell_type": "markdown",
   "id": "transparent-flooring",
   "metadata": {},
   "source": [
    "# Simulating the lognormal random walk"
   ]
  },
  {
   "cell_type": "markdown",
   "id": "falling-walter",
   "metadata": {},
   "source": [
    "The lognormal random walk model for assets can be written in continuous time as:\n",
    "\n",
    "dS = μS dt+σS dX\n",
    "\n",
    "In discrete time we write it as:\n",
    "\n",
    "$\\delta S=\\mu S\\delta t +\\sigma\\phi\\sqrt{\\delta t}$\n",
    "\n",
    "$S_{i+1} − S_i = S_i(\\mu S\\delta t +\\sigma\\phi\\sqrt{\\delta t})$\n",
    "\n",
    "$i$ means $t_i$\n",
    "\n",
    "$S_{i+1} =S_i(1+\\mu S\\delta t +\\sigma\\phi\\sqrt{\\delta t})$\n",
    "\n",
    "$S_{i+1} is the next timestep. \n",
    "\n",
    "We can easily simulate the model using a spreadsheet with the above formula. The method is called the Euler Maruyama method. It's accuracy is $O(\\sqrt{\\delta t})$\n",
    "\n",
    "\n",
    "For a generic stochastic process $dy = A(y,t)dt +B(y,t)dX$\n",
    "\n",
    "We get $y_{n+1} = y_n + A(y_n,n)\\delta t+B(y_n,n)\\Delta X_n$\n",
    "\n",
    "This will be proved in Module 3. "
   ]
  },
  {
   "cell_type": "markdown",
   "id": "adverse-pendant",
   "metadata": {},
   "source": [
    "# Simulating other random walks"
   ]
  },
  {
   "cell_type": "markdown",
   "id": "interesting-opportunity",
   "metadata": {},
   "source": [
    "This method is not restricted to the lognormal random walk.\n",
    "\n",
    "The following is a stochastic differential equation model for an interest rate, that goes by the name of an Ornstein-Uhlenbeck\n",
    "process (an example of a mean-reverting random walk), or when used in an interest rate context the Vasicek model:\n",
    "\n",
    "$dr = (\\eta -\\gamma r)dt+\\sigma dX$\n",
    "\n",
    "In discrete time we can approximate this by:\n",
    "\n",
    "$r_{i+1} = r_i + (\\eta -\\gamma r)dt+\\sigma\\phi\\sqrt{\\delta t}$\n",
    "\n"
   ]
  },
  {
   "cell_type": "markdown",
   "id": "interested-offer",
   "metadata": {},
   "source": [
    "# Ito IV: $dV = (\\frac{\\partial V}{\\partial t}+\\mu S\\frac{\\partial V}{\\partial S}+\\frac{1}{2}\\sigma^2S^2\\frac{\\partial^2V}{\\partial S^2})dt+\\sigma S\\frac{\\partial V}{\\partial S}dX$\n"
   ]
  },
  {
   "cell_type": "markdown",
   "id": "sophisticated-collar",
   "metadata": {},
   "source": [
    "We will often want to simulate paths of correlated random walks. We may want to examine the statistical properties of a portfolio of stocks, or value a convertible bond under the assumption of random asset price and random interest rates.\n",
    "\n",
    "Example:\n",
    "\n",
    "Assets S_1 and S_2 both follow lognormal random walks with correlation ρ.\n",
    "In continuous time we write:\n",
    "\n",
    "$dS_1 = μ_1S_1 dt+σ_1S_1 dX_1$\n",
    "\n",
    "$dS_2 = μ_2S_2 dt+σ_2S_2 dX_2$\n",
    "\n",
    "with $E[dX_1 dX_2] = ρ dt$.  (this implies $E[\\phi_1,\\phi_2]=\\rho$)"
   ]
  },
  {
   "cell_type": "markdown",
   "id": "copyrighted-piano",
   "metadata": {},
   "source": [
    "$S_{1_{i+1}}-S_{1_{i}} = S_{1_{i}}(μ_1\\delta t+σ_1\\phi_1\\delta t^{1/2})$\n",
    "\n",
    "$S_{2_{i+1}}-S_{2_{i}} = S_{2_{i}}(μ_1\\delta t+σ_1\\phi_1\\delta t^{1/2})$\n"
   ]
  },
  {
   "cell_type": "markdown",
   "id": "meaning-spending",
   "metadata": {},
   "source": [
    "Q: How can we choose a $φ_1$ and a $φ_2$ which are both Normally distributed, both have mean zero and standard deviation of one,\n",
    "and with a correlation of ρ between them?\n",
    "\n",
    "A: This can be done in two steps, first pick two uncorrelated Normally distributed random variables, and then combine them."
   ]
  },
  {
   "cell_type": "markdown",
   "id": "worthy-weapon",
   "metadata": {},
   "source": [
    "Step 1: \n",
    "\n",
    "Simulate $\\epsilon_1$ and $\\epsilon_2$ such that $\\epsilon_1$, $\\epsilon_2$ ~ $N(0,1)$\n",
    "\n",
    "$E[\\epsilon_1,\\epsilon_2]=0$\n",
    "\n",
    "Simulate $\\phi_1$ and $\\phi_2$ such that $\\phi_1$, $\\phi_2$ ~ $N(0,1)$\n",
    "\n",
    "$E[\\phi_1,\\phi_2]=\\rho$\n",
    "\n",
    "Recall $E[\\phi_1]=E[\\phi_2]=0$ and $V[\\phi_1]= V[\\phi_2] =1$\n",
    "\n",
    "Step 2: Convert these independent Normal numbers into correlated Normals by taking a linear combination.\n",
    "\n",
    "Set $\\phi_1=\\epsilon_1$\n",
    "\n",
    "and $\\phi_2=\\alpha\\epsilon_1+\\beta\\epsilon_2$\n",
    "\n",
    "(1) We know $E[\\phi_1,\\phi_2]=\\rho$\n",
    "\n",
    "$E[\\epsilon_1(\\alpha\\epsilon_1+\\beta\\epsilon_2)] = \\rho$\n",
    "\n",
    "$\\alpha E[\\epsilon_1^2]+\\beta E[\\epsilon_1\\epsilon_2] = \\rho$\n",
    "\n",
    "$\\alpha(1)+\\beta(0)=\\rho$\n",
    "\n",
    "$\\therefore \\alpha=\\rho$\n",
    "\n",
    "(2) We know $E[\\phi_2^2]=1$\n",
    "\n",
    "$E[(\\alpha\\epsilon_1+\\beta\\epsilon_2)^2]= 1$\n",
    "\n",
    "$E[\\alpha^2\\epsilon_1^2+\\beta^2\\epsilon_2^2+2\\alpha\\beta\\epsilon_1\\epsilon_2] = 1$\n",
    "\n",
    "$\\alpha^2E[\\epsilon_1^2]+\\beta^2E[\\epsilon_2^2]+2\\alpha\\beta E[\\epsilon_1\\epsilon_2]=1$"
   ]
  },
  {
   "cell_type": "markdown",
   "id": "intense-hindu",
   "metadata": {},
   "source": [
    "$\\alpha^2(1)+\\beta^2(1)+2\\alpha\\beta(0)=1$\n",
    "\n",
    "$\\rho^2+\\beta^2=1$\n",
    "\n",
    "$\\beta = \\sqrt{1-\\rho^2}$\n",
    "\n",
    "Therefore, $\\phi_1=\\epsilon_1$, $\\phi_2=\\rho\\epsilon_1+\\sqrt{1-\\rho^2}\\epsilon_2$"
   ]
  },
  {
   "cell_type": "markdown",
   "id": "alpha-viewer",
   "metadata": {},
   "source": [
    "Weighted sums of Normally distributed numbers are themselves Normally distributed!\n",
    "\n",
    "If $X_i$ ~ $N(\\mu_i, \\sigma_i^2) for i=1, ..., n$   then\n",
    "\n",
    "$\\sum_{i=1}^{n}w_iX_i$~$N(\\sum_{i=1}^{n}w_i\\mu_i,\\sum_{i=1}^{n}w_i^2\\sigma_1^2)$"
   ]
  },
  {
   "cell_type": "markdown",
   "id": "infectious-nickname",
   "metadata": {},
   "source": [
    "Ito IV:\n",
    "\n",
    "Suppose $V=V(t,S)$, what happens when $t \\rightarrow t+dt$, $s \\rightarrow  S+dS$?\n",
    "\n",
    "Use 2D TSE:\n",
    "\n",
    "$V(t+dt, S+dS) = V(t,S)$\n",
    "$+\\frac{\\partial V}{\\partial t}dt$\n",
    "$+\\frac{\\partial V}{\\partial S}dS$\n",
    "$+\\frac{1}{2}\\frac{\\partial^2V}{\\partial S^2}dS^2$\n",
    "\n",
    "\n",
    "$dV = \\frac{\\partial V}{\\partial t}dt$\n",
    "$+\\frac{\\partial V}{\\partial S}(\\mu Sdt+\\sigma SdX)$\n",
    "$+\\frac{1}{2}\\frac{\\partial^2V}{\\partial S^2}(\\sigma^2S^2dt)$\n",
    "\n"
   ]
  },
  {
   "cell_type": "markdown",
   "id": "motivated-jungle",
   "metadata": {},
   "source": [
    "$dV = (\\frac{\\partial V}{\\partial t}+\\mu S\\frac{\\partial V}{\\partial S}+\\frac{1}{2}\\sigma^2S^2\\frac{\\partial^2V}{\\partial S^2})dt$\n",
    "$+\\sigma S\\frac{\\partial V}{\\partial S}dX$\n"
   ]
  },
  {
   "cell_type": "markdown",
   "id": "handy-allah",
   "metadata": {},
   "source": [
    "# Ito V: "
   ]
  },
  {
   "cell_type": "markdown",
   "id": "needed-camping",
   "metadata": {},
   "source": [
    "2 stocks, $\\frac{dS_i}{S_i}=\\mu_idt+\\sigma dX_i$\n",
    "$E(dX_1dX_2)=\\rho dt$\n",
    "\n",
    "Write dV where $V=V(t,S_1,S_2)$ see M1L6."
   ]
  },
  {
   "cell_type": "code",
   "execution_count": null,
   "id": "industrial-testing",
   "metadata": {},
   "outputs": [],
   "source": []
  }
 ],
 "metadata": {
  "hide_input": false,
  "kernelspec": {
   "display_name": "Python 3",
   "language": "python",
   "name": "python3"
  },
  "language_info": {
   "codemirror_mode": {
    "name": "ipython",
    "version": 3
   },
   "file_extension": ".py",
   "mimetype": "text/x-python",
   "name": "python",
   "nbconvert_exporter": "python",
   "pygments_lexer": "ipython3",
   "version": "3.8.5"
  },
  "toc": {
   "base_numbering": 1,
   "nav_menu": {},
   "number_sections": true,
   "sideBar": true,
   "skip_h1_title": false,
   "title_cell": "Table of Contents",
   "title_sidebar": "Contents",
   "toc_cell": false,
   "toc_position": {},
   "toc_section_display": true,
   "toc_window_display": false
  }
 },
 "nbformat": 4,
 "nbformat_minor": 5
}
